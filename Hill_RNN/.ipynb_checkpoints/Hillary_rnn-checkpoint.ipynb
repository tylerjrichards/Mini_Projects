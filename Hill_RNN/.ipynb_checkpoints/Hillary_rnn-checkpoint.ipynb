{
 "cells": [
  {
   "cell_type": "markdown",
   "metadata": {},
   "source": [
    "## Clinton Slogans: Text Generation using Recurrent Neural Networks"
   ]
  },
  {
   "cell_type": "markdown",
   "metadata": {},
   "source": [
    "In the Fall of 2016, a month before the election, a list of tried and rejected slogans for the Hillary Clinton campaign were leaked via email to the press. I thought these slogans were super interesting, with some of my favorites being \"Fairness worth the fight\" or \"New Solutions Real Results.\" Naturally, twitter had a field day and we all had a bit of fun.  \n",
    "I, about a year later, wanted to have an excuse to try out text generating RNNs and decided to go back to this dataset and check it out.  \n",
    "So below, over the course of about an hour, I built a RNN using @minimaxir's textgenrnn for this exact purpose. Turns out, this library is aggressively easy to use, making this a great intro to textgen RNNs. "
   ]
  },
  {
   "cell_type": "code",
   "execution_count": null,
   "metadata": {},
   "outputs": [],
   "source": [
    "from textgenrnn import textgenrnn\n",
    "textgen = textgenrnn()\n",
    "textgen.generate()"
   ]
  },
  {
   "cell_type": "markdown",
   "metadata": {},
   "source": [
    "Now let's take a look at the first 5 of our list of slogans, compiled into a txt file from an [NYT](https://www.nytimes.com/2016/10/20/us/politics/hillary-clinton-campaign-slogans.html) article using the pandas library."
   ]
  },
  {
   "cell_type": "code",
   "execution_count": 21,
   "metadata": {},
   "outputs": [
    {
     "data": {
      "text/html": [
       "<div>\n",
       "<style scoped>\n",
       "    .dataframe tbody tr th:only-of-type {\n",
       "        vertical-align: middle;\n",
       "    }\n",
       "\n",
       "    .dataframe tbody tr th {\n",
       "        vertical-align: top;\n",
       "    }\n",
       "\n",
       "    .dataframe thead th {\n",
       "        text-align: right;\n",
       "    }\n",
       "</style>\n",
       "<table border=\"1\" class=\"dataframe\">\n",
       "  <thead>\n",
       "    <tr style=\"text-align: right;\">\n",
       "      <th></th>\n",
       "      <th>Title</th>\n",
       "    </tr>\n",
       "  </thead>\n",
       "  <tbody>\n",
       "    <tr>\n",
       "      <th>0</th>\n",
       "      <td>A fair shot and a fair deal</td>\n",
       "    </tr>\n",
       "    <tr>\n",
       "      <th>1</th>\n",
       "      <td>Hillary - For Fairness. For Families.</td>\n",
       "    </tr>\n",
       "    <tr>\n",
       "      <th>2</th>\n",
       "      <td>Building a fairer future today</td>\n",
       "    </tr>\n",
       "    <tr>\n",
       "      <th>3</th>\n",
       "      <td>Fairness worth the fight</td>\n",
       "    </tr>\n",
       "    <tr>\n",
       "      <th>4</th>\n",
       "      <td>Fairness First.</td>\n",
       "    </tr>\n",
       "  </tbody>\n",
       "</table>\n",
       "</div>"
      ],
      "text/plain": [
       "                                   Title\n",
       "0            A fair shot and a fair deal\n",
       "1  Hillary - For Fairness. For Families.\n",
       "2         Building a fairer future today\n",
       "3               Fairness worth the fight\n",
       "4                        Fairness First."
      ]
     },
     "execution_count": 21,
     "metadata": {},
     "output_type": "execute_result"
    }
   ],
   "source": [
    "import pandas as pd\n",
    "pd.read_fwf('Hilary_slogans.txt', sep = \"\").head()"
   ]
  },
  {
   "cell_type": "markdown",
   "metadata": {},
   "source": [
    "And now we'll train the rnn from the text file. "
   ]
  },
  {
   "cell_type": "code",
   "execution_count": 7,
   "metadata": {},
   "outputs": [
    {
     "name": "stdout",
     "output_type": "stream",
     "text": [
      "94 texts collected.\n",
      "Training on 2,162 character sequences.\n",
      "Epoch 1/5\n",
      "16/16 [==============================] - 5s 300ms/step - loss: 0.6964\n",
      "####################\n",
      "Temperature: 0.2\n",
      "####################\n",
      "A fair chance for you\n",
      "\n",
      "A stronger tomorrows our fair chance\n",
      "\n",
      "A fair chance for you. \n",
      "\n",
      "####################\n",
      "Temperature: 0.5\n",
      "####################\n",
      "Stronger together\n",
      "\n",
      "New Strength for the future\n",
      "\n",
      "A fair chance for your families.\n",
      "\n",
      "####################\n",
      "Temperature: 1.0\n",
      "####################\n",
      "\n",
      "\n",
      "Builting Americas America at us\n",
      "\n",
      "Your families\n",
      "\n",
      "Epoch 2/5\n",
      "16/16 [==============================] - 5s 300ms/step - loss: 0.5797\n",
      "####################\n",
      "Temperature: 0.2\n",
      "####################\n",
      "A better bargain for a better bargain\n",
      "\n",
      "A better bargain for a fair chance\n",
      "\n",
      "A better bargain for a fair chance for families\n",
      "\n",
      "####################\n",
      "Temperature: 0.5\n",
      "####################\n",
      "Making America for families\n",
      "\n",
      "Stronger together\n",
      "\n",
      "\n",
      "\n",
      "####################\n",
      "Temperature: 1.0\n",
      "####################\n",
      "Moving Ahead.\n",
      "\n",
      "A nev figgh for your family. the fight.\n",
      "\n",
      "A stronger tomorrowing the work\n",
      "\n",
      "Epoch 3/5\n",
      "16/16 [==============================] - 5s 301ms/step - loss: 0.4914\n",
      "####################\n",
      "Temperature: 0.2\n",
      "####################\n",
      "A fair chance for families\n",
      "\n",
      "A fair chance for families\n",
      "\n",
      "A fair chance for families\n",
      "\n",
      "####################\n",
      "Temperature: 0.5\n",
      "####################\n",
      "\n",
      "\n",
      "Fairness for you\n",
      "\n",
      "A fair fight\n",
      "\n",
      "####################\n",
      "Temperature: 1.0\n",
      "####################\n",
      "Its about you.\n",
      "\n",
      "A new bargain for a better better tomorrow\n",
      "\n",
      "Building move future\n",
      "\n",
      "Epoch 4/5\n",
      "16/16 [==============================] - 5s 304ms/step - loss: 0.4321\n",
      "####################\n",
      "Temperature: 0.2\n",
      "####################\n",
      "A fair chance for families\n",
      "\n",
      "A stronger America working for you\n",
      "\n",
      "A fair chance for families\n",
      "\n",
      "####################\n",
      "Temperature: 0.5\n",
      "####################\n",
      "Fairness for all\n",
      "\n",
      "\n",
      "\n",
      "A better bargain\n",
      "\n",
      "####################\n",
      "Temperature: 1.0\n",
      "####################\n",
      "A new get chance\n",
      "\n",
      "Your future and that it\n",
      "\n",
      "Putting Fairness First\n",
      "\n",
      "Epoch 5/5\n",
      "16/16 [==============================] - 5s 302ms/step - loss: 0.3864\n",
      "####################\n",
      "Temperature: 0.2\n",
      "####################\n",
      "A fair chance for families\n",
      "\n",
      "A stronger America working for you\n",
      "\n",
      "A stronger America to fair chance for you.\n",
      "\n",
      "####################\n",
      "Temperature: 0.5\n",
      "####################\n",
      "A stronger America working for you.\n",
      "\n",
      "Fairness for all our families\n",
      "\n",
      "Strength for families\n",
      "\n",
      "####################\n",
      "Temperature: 1.0\n",
      "####################\n",
      "A new build her future\n",
      "\n",
      "Building a fairer to fight\n",
      "\n",
      "Move we povely. Am strong when you can\n",
      "\n"
     ]
    }
   ],
   "source": [
    "textgen.train_from_file('Hilary_slogans.txt', num_epochs=5)"
   ]
  },
  {
   "cell_type": "markdown",
   "metadata": {},
   "source": [
    "The last thing we want to do is simply make 10 generations using our model. The last one is my favorite!"
   ]
  },
  {
   "cell_type": "code",
   "execution_count": 18,
   "metadata": {},
   "outputs": [
    {
     "name": "stdout",
     "output_type": "stream",
     "text": [
      "A fair chance for families\n",
      "\n",
      "A stronger America working for you\n",
      "\n",
      "A new bargain for a fair chance\n",
      "\n",
      "Renewing our basic for a stronger together\n",
      "\n",
      "A new better bargain for a stronger America\n",
      "\n",
      "Your family at a fair chance\n",
      "\n",
      "Getting ahead together\n",
      "\n",
      "Your family at a stronger time\n",
      "\n",
      "Progress for families\n",
      "\n",
      "Get ahead. Together.\n",
      "\n"
     ]
    }
   ],
   "source": [
    "for i in range(0,10):\n",
    "    textgen.generate()"
   ]
  }
 ],
 "metadata": {
  "kernelspec": {
   "display_name": "Python 3",
   "language": "python",
   "name": "python3"
  },
  "language_info": {
   "codemirror_mode": {
    "name": "ipython",
    "version": 3
   },
   "file_extension": ".py",
   "mimetype": "text/x-python",
   "name": "python",
   "nbconvert_exporter": "python",
   "pygments_lexer": "ipython3",
   "version": "3.7.0"
  }
 },
 "nbformat": 4,
 "nbformat_minor": 2
}
