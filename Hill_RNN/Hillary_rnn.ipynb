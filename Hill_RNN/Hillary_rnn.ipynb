{
 "cells": [
  {
   "cell_type": "code",
   "execution_count": 1,
   "metadata": {},
   "outputs": [
    {
     "name": "stderr",
     "output_type": "stream",
     "text": [
      "/anaconda3/lib/python3.6/site-packages/h5py/__init__.py:36: FutureWarning: Conversion of the second argument of issubdtype from `float` to `np.floating` is deprecated. In future, it will be treated as `np.float64 == np.dtype(float).type`.\n",
      "  from ._conv import register_converters as _register_converters\n",
      "Using TensorFlow backend.\n"
     ]
    }
   ],
   "source": [
    "from textgenrnn import textgenrnn"
   ]
  },
  {
   "cell_type": "code",
   "execution_count": 3,
   "metadata": {},
   "outputs": [],
   "source": [
    "textgen = textgenrnn()"
   ]
  },
  {
   "cell_type": "code",
   "execution_count": 7,
   "metadata": {},
   "outputs": [
    {
     "name": "stdout",
     "output_type": "stream",
     "text": [
      "94 texts collected.\n",
      "Training on 2,162 character sequences.\n",
      "Epoch 1/5\n",
      "16/16 [==============================] - 5s 300ms/step - loss: 0.6964\n",
      "####################\n",
      "Temperature: 0.2\n",
      "####################\n",
      "A fair chance for you\n",
      "\n",
      "A stronger tomorrows our fair chance\n",
      "\n",
      "A fair chance for you. \n",
      "\n",
      "####################\n",
      "Temperature: 0.5\n",
      "####################\n",
      "Stronger together\n",
      "\n",
      "New Strength for the future\n",
      "\n",
      "A fair chance for your families.\n",
      "\n",
      "####################\n",
      "Temperature: 1.0\n",
      "####################\n",
      "\n",
      "\n",
      "Builting Americas America at us\n",
      "\n",
      "Your families\n",
      "\n",
      "Epoch 2/5\n",
      "16/16 [==============================] - 5s 300ms/step - loss: 0.5797\n",
      "####################\n",
      "Temperature: 0.2\n",
      "####################\n",
      "A better bargain for a better bargain\n",
      "\n",
      "A better bargain for a fair chance\n",
      "\n",
      "A better bargain for a fair chance for families\n",
      "\n",
      "####################\n",
      "Temperature: 0.5\n",
      "####################\n",
      "Making America for families\n",
      "\n",
      "Stronger together\n",
      "\n",
      "\n",
      "\n",
      "####################\n",
      "Temperature: 1.0\n",
      "####################\n",
      "Moving Ahead.\n",
      "\n",
      "A nev figgh for your family. the fight.\n",
      "\n",
      "A stronger tomorrowing the work\n",
      "\n",
      "Epoch 3/5\n",
      "16/16 [==============================] - 5s 301ms/step - loss: 0.4914\n",
      "####################\n",
      "Temperature: 0.2\n",
      "####################\n",
      "A fair chance for families\n",
      "\n",
      "A fair chance for families\n",
      "\n",
      "A fair chance for families\n",
      "\n",
      "####################\n",
      "Temperature: 0.5\n",
      "####################\n",
      "\n",
      "\n",
      "Fairness for you\n",
      "\n",
      "A fair fight\n",
      "\n",
      "####################\n",
      "Temperature: 1.0\n",
      "####################\n",
      "Its about you.\n",
      "\n",
      "A new bargain for a better better tomorrow\n",
      "\n",
      "Building move future\n",
      "\n",
      "Epoch 4/5\n",
      "16/16 [==============================] - 5s 304ms/step - loss: 0.4321\n",
      "####################\n",
      "Temperature: 0.2\n",
      "####################\n",
      "A fair chance for families\n",
      "\n",
      "A stronger America working for you\n",
      "\n",
      "A fair chance for families\n",
      "\n",
      "####################\n",
      "Temperature: 0.5\n",
      "####################\n",
      "Fairness for all\n",
      "\n",
      "\n",
      "\n",
      "A better bargain\n",
      "\n",
      "####################\n",
      "Temperature: 1.0\n",
      "####################\n",
      "A new get chance\n",
      "\n",
      "Your future and that it\n",
      "\n",
      "Putting Fairness First\n",
      "\n",
      "Epoch 5/5\n",
      "16/16 [==============================] - 5s 302ms/step - loss: 0.3864\n",
      "####################\n",
      "Temperature: 0.2\n",
      "####################\n",
      "A fair chance for families\n",
      "\n",
      "A stronger America working for you\n",
      "\n",
      "A stronger America to fair chance for you.\n",
      "\n",
      "####################\n",
      "Temperature: 0.5\n",
      "####################\n",
      "A stronger America working for you.\n",
      "\n",
      "Fairness for all our families\n",
      "\n",
      "Strength for families\n",
      "\n",
      "####################\n",
      "Temperature: 1.0\n",
      "####################\n",
      "A new build her future\n",
      "\n",
      "Building a fairer to fight\n",
      "\n",
      "Move we povely. Am strong when you can\n",
      "\n"
     ]
    }
   ],
   "source": [
    "textgen.train_from_file('Hilary_slogans.txt', num_epochs=5)"
   ]
  },
  {
   "cell_type": "code",
   "execution_count": 18,
   "metadata": {},
   "outputs": [
    {
     "name": "stdout",
     "output_type": "stream",
     "text": [
      "A fair chance for families\n",
      "\n",
      "A stronger America working for you\n",
      "\n",
      "A new bargain for a fair chance\n",
      "\n",
      "Renewing our basic for a stronger together\n",
      "\n",
      "A new better bargain for a stronger America\n",
      "\n",
      "Your family at a fair chance\n",
      "\n",
      "Getting ahead together\n",
      "\n",
      "Your family at a stronger time\n",
      "\n",
      "Progress for families\n",
      "\n",
      "Get ahead. Together.\n",
      "\n"
     ]
    }
   ],
   "source": [
    "for i in range(0,10):\n",
    "    textgen.generate()"
   ]
  },
  {
   "cell_type": "code",
   "execution_count": 8,
   "metadata": {},
   "outputs": [
    {
     "name": "stdout",
     "output_type": "stream",
     "text": [
      "A stronger tomorrow\n",
      "\n"
     ]
    }
   ],
   "source": [
    "textgen.generate()"
   ]
  },
  {
   "cell_type": "code",
   "execution_count": 9,
   "metadata": {},
   "outputs": [
    {
     "name": "stdout",
     "output_type": "stream",
     "text": [
      "Real Solutions For Families\n",
      "\n"
     ]
    }
   ],
   "source": [
    "textgen.generate()"
   ]
  },
  {
   "cell_type": "code",
   "execution_count": 10,
   "metadata": {},
   "outputs": [
    {
     "name": "stdout",
     "output_type": "stream",
     "text": [
      "A fair fight for families\n",
      "\n"
     ]
    }
   ],
   "source": [
    "textgen.generate()"
   ]
  },
  {
   "cell_type": "code",
   "execution_count": 11,
   "metadata": {},
   "outputs": [
    {
     "name": "stdout",
     "output_type": "stream",
     "text": [
      "A fair chance for families\n",
      "\n"
     ]
    }
   ],
   "source": [
    "textgen.generate()"
   ]
  },
  {
   "cell_type": "code",
   "execution_count": 12,
   "metadata": {},
   "outputs": [
    {
     "name": "stdout",
     "output_type": "stream",
     "text": [
      "For an America to get ahead\n",
      "\n"
     ]
    }
   ],
   "source": [
    "textgen.generate()"
   ]
  },
  {
   "cell_type": "code",
   "execution_count": 13,
   "metadata": {},
   "outputs": [
    {
     "name": "stdout",
     "output_type": "stream",
     "text": [
      "A stronger America working for you\n",
      "\n"
     ]
    }
   ],
   "source": [
    "textgen.generate()"
   ]
  }
 ],
 "metadata": {
  "kernelspec": {
   "display_name": "Python 3",
   "language": "python",
   "name": "python3"
  },
  "language_info": {
   "codemirror_mode": {
    "name": "ipython",
    "version": 3
   },
   "file_extension": ".py",
   "mimetype": "text/x-python",
   "name": "python",
   "nbconvert_exporter": "python",
   "pygments_lexer": "ipython3",
   "version": "3.6.4"
  }
 },
 "nbformat": 4,
 "nbformat_minor": 2
}
