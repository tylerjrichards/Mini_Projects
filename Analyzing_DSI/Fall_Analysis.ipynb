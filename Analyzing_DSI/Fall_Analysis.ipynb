{
 "cells": [
  {
   "cell_type": "code",
   "execution_count": 1,
   "metadata": {},
   "outputs": [],
   "source": [
    "%matplotlib inline\n",
    "import pandas as pd\n",
    "import numpy as np\n",
    "import matplotlib.pyplot as plt\n",
    "import seaborn as sns"
   ]
  },
  {
   "cell_type": "code",
   "execution_count": 21,
   "metadata": {},
   "outputs": [],
   "source": [
    "All_workshop_data = pd.read_csv('Full_DSI_History.csv')\n",
    "All_workshop_data['timestamp'] = pd.to_datetime(All_workshop_data['timestamp'])"
   ]
  },
  {
   "cell_type": "code",
   "execution_count": 23,
   "metadata": {},
   "outputs": [
    {
     "data": {
      "text/html": [
       "<div>\n",
       "<style scoped>\n",
       "    .dataframe tbody tr th:only-of-type {\n",
       "        vertical-align: middle;\n",
       "    }\n",
       "\n",
       "    .dataframe tbody tr th {\n",
       "        vertical-align: top;\n",
       "    }\n",
       "\n",
       "    .dataframe thead th {\n",
       "        text-align: right;\n",
       "    }\n",
       "</style>\n",
       "<table border=\"1\" class=\"dataframe\">\n",
       "  <thead>\n",
       "    <tr style=\"text-align: right;\">\n",
       "      <th></th>\n",
       "      <th>timestamp</th>\n",
       "      <th>email</th>\n",
       "      <th>do_you_want_to_receive_updates_about_meetings_workshops_and_other_dsi_events</th>\n",
       "      <th>first_name</th>\n",
       "      <th>last_name</th>\n",
       "      <th>gender</th>\n",
       "      <th>is_this_your_first_dsi_event</th>\n",
       "      <th>what_year_are_you_in</th>\n",
       "      <th>how_much_prior_coding_experience_do_you_have</th>\n",
       "      <th>what_subject_best_describes_your_current_major_or_profession</th>\n",
       "      <th>...</th>\n",
       "      <th>raw_studies</th>\n",
       "      <th>academic_standing</th>\n",
       "      <th>study</th>\n",
       "      <th>past_attendance</th>\n",
       "      <th>first_attendance</th>\n",
       "      <th>race</th>\n",
       "      <th>ethnicity</th>\n",
       "      <th>feedback</th>\n",
       "      <th>listserv</th>\n",
       "      <th>code_background</th>\n",
       "    </tr>\n",
       "  </thead>\n",
       "  <tbody>\n",
       "    <tr>\n",
       "      <th>0</th>\n",
       "      <td>2018-09-12 18:25:35</td>\n",
       "      <td>davidfussell2014@gmail.com</td>\n",
       "      <td>Yes</td>\n",
       "      <td>David</td>\n",
       "      <td>Fussell</td>\n",
       "      <td>Male</td>\n",
       "      <td>Yes</td>\n",
       "      <td>Senior</td>\n",
       "      <td>1-2 years</td>\n",
       "      <td>Applied Sciences (MechE, ChemE, materials...)</td>\n",
       "      <td>...</td>\n",
       "      <td>NaN</td>\n",
       "      <td>NaN</td>\n",
       "      <td>NaN</td>\n",
       "      <td>NaN</td>\n",
       "      <td>NaN</td>\n",
       "      <td>NaN</td>\n",
       "      <td>NaN</td>\n",
       "      <td>NaN</td>\n",
       "      <td>NaN</td>\n",
       "      <td>NaN</td>\n",
       "    </tr>\n",
       "    <tr>\n",
       "      <th>1</th>\n",
       "      <td>2018-09-12 18:29:11</td>\n",
       "      <td>davidfussell2014@gmail.com</td>\n",
       "      <td>Yes</td>\n",
       "      <td>David</td>\n",
       "      <td>Fussell</td>\n",
       "      <td>Male</td>\n",
       "      <td>Yes</td>\n",
       "      <td>Senior</td>\n",
       "      <td>1-2 years</td>\n",
       "      <td>Applied Sciences (MechE, ChemE, materials...)</td>\n",
       "      <td>...</td>\n",
       "      <td>NaN</td>\n",
       "      <td>NaN</td>\n",
       "      <td>NaN</td>\n",
       "      <td>NaN</td>\n",
       "      <td>NaN</td>\n",
       "      <td>NaN</td>\n",
       "      <td>NaN</td>\n",
       "      <td>NaN</td>\n",
       "      <td>NaN</td>\n",
       "      <td>NaN</td>\n",
       "    </tr>\n",
       "    <tr>\n",
       "      <th>2</th>\n",
       "      <td>2018-09-12 18:31:31</td>\n",
       "      <td>nicholas.tateo@ufl.edu</td>\n",
       "      <td>I'm already on the listserv</td>\n",
       "      <td>Nicholas</td>\n",
       "      <td>Tateo</td>\n",
       "      <td>Male</td>\n",
       "      <td>No</td>\n",
       "      <td>Sophomore</td>\n",
       "      <td>3-4 years</td>\n",
       "      <td>Technology (computer engineering, computer sci...</td>\n",
       "      <td>...</td>\n",
       "      <td>NaN</td>\n",
       "      <td>NaN</td>\n",
       "      <td>NaN</td>\n",
       "      <td>NaN</td>\n",
       "      <td>NaN</td>\n",
       "      <td>NaN</td>\n",
       "      <td>NaN</td>\n",
       "      <td>NaN</td>\n",
       "      <td>NaN</td>\n",
       "      <td>NaN</td>\n",
       "    </tr>\n",
       "    <tr>\n",
       "      <th>3</th>\n",
       "      <td>2018-09-12 18:34:03</td>\n",
       "      <td>benjamin.gorman@ufl.edu</td>\n",
       "      <td>Yes</td>\n",
       "      <td>Ben</td>\n",
       "      <td>Gorman</td>\n",
       "      <td>Male</td>\n",
       "      <td>No</td>\n",
       "      <td>Sophomore</td>\n",
       "      <td>3-4 years</td>\n",
       "      <td>Technology (computer engineering, computer sci...</td>\n",
       "      <td>...</td>\n",
       "      <td>NaN</td>\n",
       "      <td>NaN</td>\n",
       "      <td>NaN</td>\n",
       "      <td>NaN</td>\n",
       "      <td>NaN</td>\n",
       "      <td>NaN</td>\n",
       "      <td>NaN</td>\n",
       "      <td>NaN</td>\n",
       "      <td>NaN</td>\n",
       "      <td>NaN</td>\n",
       "    </tr>\n",
       "    <tr>\n",
       "      <th>4</th>\n",
       "      <td>2018-09-12 18:42:39</td>\n",
       "      <td>xchua96@ufl.edu</td>\n",
       "      <td>Yes</td>\n",
       "      <td>Xavier</td>\n",
       "      <td>Chua</td>\n",
       "      <td>Male</td>\n",
       "      <td>Yes</td>\n",
       "      <td>Senior</td>\n",
       "      <td>3-4 years</td>\n",
       "      <td>Formal Sciences (mathematics, logic, statistic...</td>\n",
       "      <td>...</td>\n",
       "      <td>NaN</td>\n",
       "      <td>NaN</td>\n",
       "      <td>NaN</td>\n",
       "      <td>NaN</td>\n",
       "      <td>NaN</td>\n",
       "      <td>NaN</td>\n",
       "      <td>NaN</td>\n",
       "      <td>NaN</td>\n",
       "      <td>NaN</td>\n",
       "      <td>NaN</td>\n",
       "    </tr>\n",
       "  </tbody>\n",
       "</table>\n",
       "<p>5 rows × 23 columns</p>\n",
       "</div>"
      ],
      "text/plain": [
       "            timestamp                       email  \\\n",
       "0 2018-09-12 18:25:35  davidfussell2014@gmail.com   \n",
       "1 2018-09-12 18:29:11  davidfussell2014@gmail.com   \n",
       "2 2018-09-12 18:31:31      nicholas.tateo@ufl.edu   \n",
       "3 2018-09-12 18:34:03     benjamin.gorman@ufl.edu   \n",
       "4 2018-09-12 18:42:39             xchua96@ufl.edu   \n",
       "\n",
       "  do_you_want_to_receive_updates_about_meetings_workshops_and_other_dsi_events  \\\n",
       "0                                                Yes                             \n",
       "1                                                Yes                             \n",
       "2                        I'm already on the listserv                             \n",
       "3                                                Yes                             \n",
       "4                                                Yes                             \n",
       "\n",
       "  first_name last_name gender is_this_your_first_dsi_event  \\\n",
       "0      David   Fussell   Male                          Yes   \n",
       "1      David   Fussell   Male                          Yes   \n",
       "2   Nicholas     Tateo   Male                           No   \n",
       "3        Ben    Gorman   Male                           No   \n",
       "4     Xavier      Chua   Male                          Yes   \n",
       "\n",
       "  what_year_are_you_in how_much_prior_coding_experience_do_you_have  \\\n",
       "0               Senior                                    1-2 years   \n",
       "1               Senior                                    1-2 years   \n",
       "2            Sophomore                                    3-4 years   \n",
       "3            Sophomore                                    3-4 years   \n",
       "4               Senior                                    3-4 years   \n",
       "\n",
       "  what_subject_best_describes_your_current_major_or_profession  \\\n",
       "0      Applied Sciences (MechE, ChemE, materials...)             \n",
       "1      Applied Sciences (MechE, ChemE, materials...)             \n",
       "2  Technology (computer engineering, computer sci...             \n",
       "3  Technology (computer engineering, computer sci...             \n",
       "4  Formal Sciences (mathematics, logic, statistic...             \n",
       "\n",
       "        ...       raw_studies academic_standing study past_attendance  \\\n",
       "0       ...               NaN               NaN   NaN             NaN   \n",
       "1       ...               NaN               NaN   NaN             NaN   \n",
       "2       ...               NaN               NaN   NaN             NaN   \n",
       "3       ...               NaN               NaN   NaN             NaN   \n",
       "4       ...               NaN               NaN   NaN             NaN   \n",
       "\n",
       "  first_attendance race ethnicity feedback listserv code_background  \n",
       "0              NaN  NaN       NaN      NaN      NaN             NaN  \n",
       "1              NaN  NaN       NaN      NaN      NaN             NaN  \n",
       "2              NaN  NaN       NaN      NaN      NaN             NaN  \n",
       "3              NaN  NaN       NaN      NaN      NaN             NaN  \n",
       "4              NaN  NaN       NaN      NaN      NaN             NaN  \n",
       "\n",
       "[5 rows x 23 columns]"
      ]
     },
     "execution_count": 23,
     "metadata": {},
     "output_type": "execute_result"
    }
   ],
   "source": [
    "All_workshop_data.head()"
   ]
  },
  {
   "cell_type": "code",
   "execution_count": 24,
   "metadata": {},
   "outputs": [
    {
     "data": {
      "text/html": [
       "<div>\n",
       "<style scoped>\n",
       "    .dataframe tbody tr th:only-of-type {\n",
       "        vertical-align: middle;\n",
       "    }\n",
       "\n",
       "    .dataframe tbody tr th {\n",
       "        vertical-align: top;\n",
       "    }\n",
       "\n",
       "    .dataframe thead th {\n",
       "        text-align: right;\n",
       "    }\n",
       "</style>\n",
       "<table border=\"1\" class=\"dataframe\">\n",
       "  <thead>\n",
       "    <tr style=\"text-align: right;\">\n",
       "      <th></th>\n",
       "      <th>timestamp</th>\n",
       "      <th>email</th>\n",
       "      <th>do_you_want_to_receive_updates_about_meetings_workshops_and_other_dsi_events</th>\n",
       "      <th>first_name</th>\n",
       "      <th>last_name</th>\n",
       "      <th>gender</th>\n",
       "      <th>is_this_your_first_dsi_event</th>\n",
       "      <th>what_year_are_you_in</th>\n",
       "      <th>how_much_prior_coding_experience_do_you_have</th>\n",
       "      <th>what_subject_best_describes_your_current_major_or_profession</th>\n",
       "      <th>...</th>\n",
       "      <th>raw_studies</th>\n",
       "      <th>academic_standing</th>\n",
       "      <th>study</th>\n",
       "      <th>past_attendance</th>\n",
       "      <th>first_attendance</th>\n",
       "      <th>race</th>\n",
       "      <th>ethnicity</th>\n",
       "      <th>feedback</th>\n",
       "      <th>listserv</th>\n",
       "      <th>code_background</th>\n",
       "    </tr>\n",
       "  </thead>\n",
       "  <tbody>\n",
       "    <tr>\n",
       "      <th>count</th>\n",
       "      <td>289</td>\n",
       "      <td>289</td>\n",
       "      <td>289</td>\n",
       "      <td>285</td>\n",
       "      <td>286</td>\n",
       "      <td>289</td>\n",
       "      <td>289</td>\n",
       "      <td>289</td>\n",
       "      <td>289</td>\n",
       "      <td>289</td>\n",
       "      <td>...</td>\n",
       "      <td>0.0</td>\n",
       "      <td>0.0</td>\n",
       "      <td>0.0</td>\n",
       "      <td>0.0</td>\n",
       "      <td>0.0</td>\n",
       "      <td>0.0</td>\n",
       "      <td>0.0</td>\n",
       "      <td>0.0</td>\n",
       "      <td>0.0</td>\n",
       "      <td>0.0</td>\n",
       "    </tr>\n",
       "    <tr>\n",
       "      <th>unique</th>\n",
       "      <td>288</td>\n",
       "      <td>177</td>\n",
       "      <td>3</td>\n",
       "      <td>173</td>\n",
       "      <td>168</td>\n",
       "      <td>3</td>\n",
       "      <td>2</td>\n",
       "      <td>6</td>\n",
       "      <td>5</td>\n",
       "      <td>8</td>\n",
       "      <td>...</td>\n",
       "      <td>0.0</td>\n",
       "      <td>0.0</td>\n",
       "      <td>0.0</td>\n",
       "      <td>0.0</td>\n",
       "      <td>0.0</td>\n",
       "      <td>0.0</td>\n",
       "      <td>0.0</td>\n",
       "      <td>0.0</td>\n",
       "      <td>0.0</td>\n",
       "      <td>0.0</td>\n",
       "    </tr>\n",
       "    <tr>\n",
       "      <th>top</th>\n",
       "      <td>2018-09-20 18:34:09</td>\n",
       "      <td>chingyunhuang@ufl.edu</td>\n",
       "      <td>Yes</td>\n",
       "      <td>Liwen</td>\n",
       "      <td>Zhang</td>\n",
       "      <td>Male</td>\n",
       "      <td>No</td>\n",
       "      <td>Graduate Student</td>\n",
       "      <td>Less than 1 year</td>\n",
       "      <td>Technology (computer engineering, computer sci...</td>\n",
       "      <td>...</td>\n",
       "      <td>NaN</td>\n",
       "      <td>NaN</td>\n",
       "      <td>NaN</td>\n",
       "      <td>NaN</td>\n",
       "      <td>NaN</td>\n",
       "      <td>NaN</td>\n",
       "      <td>NaN</td>\n",
       "      <td>NaN</td>\n",
       "      <td>NaN</td>\n",
       "      <td>NaN</td>\n",
       "    </tr>\n",
       "    <tr>\n",
       "      <th>freq</th>\n",
       "      <td>2</td>\n",
       "      <td>7</td>\n",
       "      <td>210</td>\n",
       "      <td>6</td>\n",
       "      <td>11</td>\n",
       "      <td>173</td>\n",
       "      <td>158</td>\n",
       "      <td>102</td>\n",
       "      <td>89</td>\n",
       "      <td>119</td>\n",
       "      <td>...</td>\n",
       "      <td>NaN</td>\n",
       "      <td>NaN</td>\n",
       "      <td>NaN</td>\n",
       "      <td>NaN</td>\n",
       "      <td>NaN</td>\n",
       "      <td>NaN</td>\n",
       "      <td>NaN</td>\n",
       "      <td>NaN</td>\n",
       "      <td>NaN</td>\n",
       "      <td>NaN</td>\n",
       "    </tr>\n",
       "    <tr>\n",
       "      <th>first</th>\n",
       "      <td>2018-09-12 18:25:35</td>\n",
       "      <td>NaN</td>\n",
       "      <td>NaN</td>\n",
       "      <td>NaN</td>\n",
       "      <td>NaN</td>\n",
       "      <td>NaN</td>\n",
       "      <td>NaN</td>\n",
       "      <td>NaN</td>\n",
       "      <td>NaN</td>\n",
       "      <td>NaN</td>\n",
       "      <td>...</td>\n",
       "      <td>NaN</td>\n",
       "      <td>NaN</td>\n",
       "      <td>NaN</td>\n",
       "      <td>NaN</td>\n",
       "      <td>NaN</td>\n",
       "      <td>NaN</td>\n",
       "      <td>NaN</td>\n",
       "      <td>NaN</td>\n",
       "      <td>NaN</td>\n",
       "      <td>NaN</td>\n",
       "    </tr>\n",
       "    <tr>\n",
       "      <th>last</th>\n",
       "      <td>2018-10-03 18:47:55</td>\n",
       "      <td>NaN</td>\n",
       "      <td>NaN</td>\n",
       "      <td>NaN</td>\n",
       "      <td>NaN</td>\n",
       "      <td>NaN</td>\n",
       "      <td>NaN</td>\n",
       "      <td>NaN</td>\n",
       "      <td>NaN</td>\n",
       "      <td>NaN</td>\n",
       "      <td>...</td>\n",
       "      <td>NaN</td>\n",
       "      <td>NaN</td>\n",
       "      <td>NaN</td>\n",
       "      <td>NaN</td>\n",
       "      <td>NaN</td>\n",
       "      <td>NaN</td>\n",
       "      <td>NaN</td>\n",
       "      <td>NaN</td>\n",
       "      <td>NaN</td>\n",
       "      <td>NaN</td>\n",
       "    </tr>\n",
       "  </tbody>\n",
       "</table>\n",
       "<p>6 rows × 23 columns</p>\n",
       "</div>"
      ],
      "text/plain": [
       "                  timestamp                  email  \\\n",
       "count                   289                    289   \n",
       "unique                  288                    177   \n",
       "top     2018-09-20 18:34:09  chingyunhuang@ufl.edu   \n",
       "freq                      2                      7   \n",
       "first   2018-09-12 18:25:35                    NaN   \n",
       "last    2018-10-03 18:47:55                    NaN   \n",
       "\n",
       "       do_you_want_to_receive_updates_about_meetings_workshops_and_other_dsi_events  \\\n",
       "count                                                 289                             \n",
       "unique                                                  3                             \n",
       "top                                                   Yes                             \n",
       "freq                                                  210                             \n",
       "first                                                 NaN                             \n",
       "last                                                  NaN                             \n",
       "\n",
       "       first_name last_name gender is_this_your_first_dsi_event  \\\n",
       "count         285       286    289                          289   \n",
       "unique        173       168      3                            2   \n",
       "top         Liwen     Zhang   Male                           No   \n",
       "freq            6        11    173                          158   \n",
       "first         NaN       NaN    NaN                          NaN   \n",
       "last          NaN       NaN    NaN                          NaN   \n",
       "\n",
       "       what_year_are_you_in how_much_prior_coding_experience_do_you_have  \\\n",
       "count                   289                                          289   \n",
       "unique                    6                                            5   \n",
       "top        Graduate Student                             Less than 1 year   \n",
       "freq                    102                                           89   \n",
       "first                   NaN                                          NaN   \n",
       "last                    NaN                                          NaN   \n",
       "\n",
       "       what_subject_best_describes_your_current_major_or_profession  \\\n",
       "count                                                 289             \n",
       "unique                                                  8             \n",
       "top     Technology (computer engineering, computer sci...             \n",
       "freq                                                  119             \n",
       "first                                                 NaN             \n",
       "last                                                  NaN             \n",
       "\n",
       "             ...        raw_studies academic_standing study  past_attendance  \\\n",
       "count        ...                0.0               0.0   0.0              0.0   \n",
       "unique       ...                0.0               0.0   0.0              0.0   \n",
       "top          ...                NaN               NaN   NaN              NaN   \n",
       "freq         ...                NaN               NaN   NaN              NaN   \n",
       "first        ...                NaN               NaN   NaN              NaN   \n",
       "last         ...                NaN               NaN   NaN              NaN   \n",
       "\n",
       "        first_attendance  race  ethnicity  feedback  listserv  code_background  \n",
       "count                0.0   0.0        0.0       0.0       0.0              0.0  \n",
       "unique               0.0   0.0        0.0       0.0       0.0              0.0  \n",
       "top                  NaN   NaN        NaN       NaN       NaN              NaN  \n",
       "freq                 NaN   NaN        NaN       NaN       NaN              NaN  \n",
       "first                NaN   NaN        NaN       NaN       NaN              NaN  \n",
       "last                 NaN   NaN        NaN       NaN       NaN              NaN  \n",
       "\n",
       "[6 rows x 23 columns]"
      ]
     },
     "execution_count": 24,
     "metadata": {},
     "output_type": "execute_result"
    }
   ],
   "source": [
    "Fall_workshops = All_workshop_data[All_workshop_data['workshop_type'].str.contains(\"Fall 2018\")]\n",
    "Fall_workshops.describe()"
   ]
  },
  {
   "cell_type": "code",
   "execution_count": null,
   "metadata": {},
   "outputs": [],
   "source": [
    "Fall_workshops['how_did_you_hear_about_us']"
   ]
  },
  {
   "cell_type": "code",
   "execution_count": 26,
   "metadata": {},
   "outputs": [
    {
     "data": {
      "text/plain": [
       "<matplotlib.axes._subplots.AxesSubplot at 0x1158a65f8>"
      ]
     },
     "execution_count": 26,
     "metadata": {},
     "output_type": "execute_result"
    },
    {
     "data": {
      "image/png": "[encoded data removed]",
      "text/plain": [
       "<Figure size 432x288 with 1 Axes>"
      ]
     },
     "metadata": {},
     "output_type": "display_data"
    }
   ],
   "source": [
    "sns.countplot(data=Fall_workshops, y = 'how_did_you_hear_about_us', order = Fall_workshops['how_did_you_hear_about_us'].value_counts().iloc[:10].index)"
   ]
  },
  {
   "cell_type": "code",
   "execution_count": 27,
   "metadata": {},
   "outputs": [
    {
     "name": "stderr",
     "output_type": "stream",
     "text": [
      "/usr/local/lib/python3.7/site-packages/scipy/stats/stats.py:1713: FutureWarning: Using a non-tuple sequence for multidimensional indexing is deprecated; use `arr[tuple(seq)]` instead of `arr[seq]`. In the future this will be interpreted as an array index, `arr[np.array(seq)]`, which will result either in an error or a different result.\n",
      "  return np.add.reduce(sorted[indexer] * weights, axis=axis) / sumval\n"
     ]
    },
    {
     "data": {
      "text/plain": [
       "Text(0.5,0.98,'Histogram of Number of Workshop Attendences by Email')"
      ]
     },
     "execution_count": 27,
     "metadata": {},
     "output_type": "execute_result"
    },
    {
     "data": {
      "image/png": "[encoded data removed]",
      "text/plain": [
       "<Figure size 432x288 with 1 Axes>"
      ]
     },
     "metadata": {},
     "output_type": "display_data"
    }
   ],
   "source": [
    "a = sns.distplot(Fall_workshops['email'].value_counts(), kde= False)\n",
    "fig = a.figure\n",
    "fig.suptitle(\"Histogram of Number of Workshop Attendences by Email\", size=10)"
   ]
  },
  {
   "cell_type": "code",
   "execution_count": 28,
   "metadata": {},
   "outputs": [
    {
     "data": {
      "text/plain": [
       "Index(['timestamp', 'email',\n",
       "       'do_you_want_to_receive_updates_about_meetings_workshops_and_other_dsi_events',\n",
       "       'first_name', 'last_name', 'gender', 'is_this_your_first_dsi_event',\n",
       "       'what_year_are_you_in', 'how_much_prior_coding_experience_do_you_have',\n",
       "       'what_subject_best_describes_your_current_major_or_profession',\n",
       "       'optional_write_your_full_major_name', 'how_did_you_hear_about_us',\n",
       "       'workshop_type', 'raw_studies', 'academic_standing', 'study',\n",
       "       'past_attendance', 'first_attendance', 'race', 'ethnicity', 'feedback',\n",
       "       'listserv', 'code_background'],\n",
       "      dtype='object')"
      ]
     },
     "execution_count": 28,
     "metadata": {},
     "output_type": "execute_result"
    }
   ],
   "source": [
    "Fall_workshops.columns"
   ]
  },
  {
   "cell_type": "code",
   "execution_count": 29,
   "metadata": {},
   "outputs": [
    {
     "data": {
      "text/plain": [
       "<matplotlib.axes._subplots.AxesSubplot at 0x11910e5f8>"
      ]
     },
     "execution_count": 29,
     "metadata": {},
     "output_type": "execute_result"
    },
    {
     "data": {
      "image/png": "[encoded data removed]",
      "text/plain": [
       "<Figure size 432x288 with 1 Axes>"
      ]
     },
     "metadata": {},
     "output_type": "display_data"
    }
   ],
   "source": [
    "sns.countplot(data=Fall_workshops, x = 'what_year_are_you_in', order = Fall_workshops['what_year_are_you_in'].value_counts().iloc[:10].index)"
   ]
  },
  {
   "cell_type": "code",
   "execution_count": 48,
   "metadata": {},
   "outputs": [
    {
     "data": {
      "text/plain": [
       "<seaborn.axisgrid.FacetGrid at 0x11db1b898>"
      ]
     },
     "execution_count": 48,
     "metadata": {},
     "output_type": "execute_result"
    },
    {
     "data": {
      "image/png": "[encoded data removed]",
      "text/plain": [
       "<Figure size 1080x1080 with 9 Axes>"
      ]
     },
     "metadata": {},
     "output_type": "display_data"
    }
   ],
   "source": [
    "sns.catplot(data = Fall_workshops, x = 'is_this_your_first_dsi_event', col = 'workshop_type', kind = 'count', col_wrap=3)"
   ]
  },
  {
   "cell_type": "code",
   "execution_count": 49,
   "metadata": {},
   "outputs": [
    {
     "data": {
      "text/plain": [
       "<matplotlib.axes._subplots.AxesSubplot at 0x11e2639b0>"
      ]
     },
     "execution_count": 49,
     "metadata": {},
     "output_type": "execute_result"
    },
    {
     "data": {
      "image/png": "[encoded data removed]",
      "text/plain": [
       "<Figure size 432x288 with 1 Axes>"
      ]
     },
     "metadata": {},
     "output_type": "display_data"
    }
   ],
   "source": [
    "Fall_workshops.groupby('is_this_your_first_dsi_event').workshop_type.value_counts(normalize=True).unstack(0).plot.barh()"
   ]
  },
  {
   "cell_type": "code",
   "execution_count": null,
   "metadata": {},
   "outputs": [],
   "source": []
  },
  {
   "cell_type": "code",
   "execution_count": null,
   "metadata": {},
   "outputs": [],
   "source": []
  },
  {
   "cell_type": "code",
   "execution_count": null,
   "metadata": {},
   "outputs": [],
   "source": []
  }
 ],
 "metadata": {
  "kernelspec": {
   "display_name": "Python 3",
   "language": "python",
   "name": "python3"
  },
  "language_info": {
   "codemirror_mode": {
    "name": "ipython",
    "version": 3
   },
   "file_extension": ".py",
   "mimetype": "text/x-python",
   "name": "python",
   "nbconvert_exporter": "python",
   "pygments_lexer": "ipython3",
   "version": "3.7.0"
  }
 },
 "nbformat": 4,
 "nbformat_minor": 2
}
