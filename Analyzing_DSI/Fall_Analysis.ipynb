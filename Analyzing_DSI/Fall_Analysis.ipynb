{
 "cells": [
  {
   "cell_type": "markdown",
   "metadata": {},
   "source": [
    "## Fall 2018 DSI Analysis: Midpoint"
   ]
  },
  {
   "cell_type": "code",
   "execution_count": 1,
   "metadata": {},
   "outputs": [],
   "source": [
    "%matplotlib inline\n",
    "import pandas as pd\n",
    "import numpy as np\n",
    "import matplotlib.pyplot as plt\n",
    "import seaborn as sns"
   ]
  },
  {
   "cell_type": "code",
   "execution_count": null,
   "metadata": {},
   "outputs": [],
   "source": [
    "All_workshop_data = pd.read_csv('Full_DSI_History.csv')\n",
    "All_workshop_data['timestamp'] = pd.to_datetime(All_workshop_data['timestamp'])"
   ]
  },
  {
   "cell_type": "code",
   "execution_count": 3,
   "metadata": {},
   "outputs": [
    {
     "data": {
      "text/html": [
       "<div>\n",
       "<style scoped>\n",
       "    .dataframe tbody tr th:only-of-type {\n",
       "        vertical-align: middle;\n",
       "    }\n",
       "\n",
       "    .dataframe tbody tr th {\n",
       "        vertical-align: top;\n",
       "    }\n",
       "\n",
       "    .dataframe thead th {\n",
       "        text-align: right;\n",
       "    }\n",
       "</style>\n",
       "<table border=\"1\" class=\"dataframe\">\n",
       "  <thead>\n",
       "    <tr style=\"text-align: right;\">\n",
       "      <th></th>\n",
       "      <th>timestamp</th>\n",
       "      <th>email</th>\n",
       "      <th>do_you_want_to_receive_updates_about_meetings_workshops_and_other_dsi_events</th>\n",
       "      <th>first_name</th>\n",
       "      <th>last_name</th>\n",
       "      <th>gender</th>\n",
       "      <th>is_this_your_first_dsi_event</th>\n",
       "      <th>what_year_are_you_in</th>\n",
       "      <th>how_much_prior_coding_experience_do_you_have</th>\n",
       "      <th>what_subject_best_describes_your_current_major_or_profession</th>\n",
       "      <th>...</th>\n",
       "      <th>raw_studies</th>\n",
       "      <th>academic_standing</th>\n",
       "      <th>study</th>\n",
       "      <th>past_attendance</th>\n",
       "      <th>first_attendance</th>\n",
       "      <th>race</th>\n",
       "      <th>ethnicity</th>\n",
       "      <th>feedback</th>\n",
       "      <th>listserv</th>\n",
       "      <th>code_background</th>\n",
       "    </tr>\n",
       "  </thead>\n",
       "  <tbody>\n",
       "    <tr>\n",
       "      <th>0</th>\n",
       "      <td>2018-10-15 18:07:06</td>\n",
       "      <td>emmett.kendall@ufl.edu</td>\n",
       "      <td>Yes</td>\n",
       "      <td>Emmett</td>\n",
       "      <td>Kendall</td>\n",
       "      <td>Male</td>\n",
       "      <td>No</td>\n",
       "      <td>Sophomore</td>\n",
       "      <td>Less than 1 year</td>\n",
       "      <td>Formal Sciences (mathematics, logic, statistic...</td>\n",
       "      <td>...</td>\n",
       "      <td>NaN</td>\n",
       "      <td>NaN</td>\n",
       "      <td>NaN</td>\n",
       "      <td>NaN</td>\n",
       "      <td>NaN</td>\n",
       "      <td>NaN</td>\n",
       "      <td>NaN</td>\n",
       "      <td>NaN</td>\n",
       "      <td>NaN</td>\n",
       "      <td>NaN</td>\n",
       "    </tr>\n",
       "    <tr>\n",
       "      <th>1</th>\n",
       "      <td>2018-10-15 18:09:23</td>\n",
       "      <td>liszler@ufl.edu</td>\n",
       "      <td>I'm already on the listserv</td>\n",
       "      <td>Levi</td>\n",
       "      <td>Iszler</td>\n",
       "      <td>Male</td>\n",
       "      <td>No</td>\n",
       "      <td>Junior</td>\n",
       "      <td>1-2 years</td>\n",
       "      <td>Formal Sciences (mathematics, logic, statistic...</td>\n",
       "      <td>...</td>\n",
       "      <td>NaN</td>\n",
       "      <td>NaN</td>\n",
       "      <td>NaN</td>\n",
       "      <td>NaN</td>\n",
       "      <td>NaN</td>\n",
       "      <td>NaN</td>\n",
       "      <td>NaN</td>\n",
       "      <td>NaN</td>\n",
       "      <td>NaN</td>\n",
       "      <td>NaN</td>\n",
       "    </tr>\n",
       "    <tr>\n",
       "      <th>2</th>\n",
       "      <td>2018-10-15 18:11:51</td>\n",
       "      <td>aseem.thakker@gmail.com</td>\n",
       "      <td>Yes</td>\n",
       "      <td>Aseem</td>\n",
       "      <td>Thakkar</td>\n",
       "      <td>Male</td>\n",
       "      <td>Yes</td>\n",
       "      <td>Graduate Student</td>\n",
       "      <td>1-2 years</td>\n",
       "      <td>Technology (computer engineering, computer sci...</td>\n",
       "      <td>...</td>\n",
       "      <td>NaN</td>\n",
       "      <td>NaN</td>\n",
       "      <td>NaN</td>\n",
       "      <td>NaN</td>\n",
       "      <td>NaN</td>\n",
       "      <td>NaN</td>\n",
       "      <td>NaN</td>\n",
       "      <td>NaN</td>\n",
       "      <td>NaN</td>\n",
       "      <td>NaN</td>\n",
       "    </tr>\n",
       "    <tr>\n",
       "      <th>3</th>\n",
       "      <td>2018-10-15 18:16:21</td>\n",
       "      <td>meghansavoldy@ufl.edu</td>\n",
       "      <td>I'm already on the listserv</td>\n",
       "      <td>Meghan</td>\n",
       "      <td>Savoldy</td>\n",
       "      <td>Female</td>\n",
       "      <td>No</td>\n",
       "      <td>Senior</td>\n",
       "      <td>Less than 1 year</td>\n",
       "      <td>Social Studies (psychology, journalism, econom...</td>\n",
       "      <td>...</td>\n",
       "      <td>NaN</td>\n",
       "      <td>NaN</td>\n",
       "      <td>NaN</td>\n",
       "      <td>NaN</td>\n",
       "      <td>NaN</td>\n",
       "      <td>NaN</td>\n",
       "      <td>NaN</td>\n",
       "      <td>NaN</td>\n",
       "      <td>NaN</td>\n",
       "      <td>NaN</td>\n",
       "    </tr>\n",
       "    <tr>\n",
       "      <th>4</th>\n",
       "      <td>2018-10-15 18:16:47</td>\n",
       "      <td>raymond.yu@ufl.edu</td>\n",
       "      <td>Yes</td>\n",
       "      <td>Raymond</td>\n",
       "      <td>Yu</td>\n",
       "      <td>Male</td>\n",
       "      <td>Yes</td>\n",
       "      <td>Freshman</td>\n",
       "      <td>1-2 years</td>\n",
       "      <td>Technology (computer engineering, computer sci...</td>\n",
       "      <td>...</td>\n",
       "      <td>NaN</td>\n",
       "      <td>NaN</td>\n",
       "      <td>NaN</td>\n",
       "      <td>NaN</td>\n",
       "      <td>NaN</td>\n",
       "      <td>NaN</td>\n",
       "      <td>NaN</td>\n",
       "      <td>NaN</td>\n",
       "      <td>NaN</td>\n",
       "      <td>NaN</td>\n",
       "    </tr>\n",
       "  </tbody>\n",
       "</table>\n",
       "<p>5 rows × 23 columns</p>\n",
       "</div>"
      ],
      "text/plain": [
       "            timestamp                    email  \\\n",
       "0 2018-10-15 18:07:06   emmett.kendall@ufl.edu   \n",
       "1 2018-10-15 18:09:23          liszler@ufl.edu   \n",
       "2 2018-10-15 18:11:51  aseem.thakker@gmail.com   \n",
       "3 2018-10-15 18:16:21    meghansavoldy@ufl.edu   \n",
       "4 2018-10-15 18:16:47       raymond.yu@ufl.edu   \n",
       "\n",
       "  do_you_want_to_receive_updates_about_meetings_workshops_and_other_dsi_events  \\\n",
       "0                                                Yes                             \n",
       "1                        I'm already on the listserv                             \n",
       "2                                                Yes                             \n",
       "3                        I'm already on the listserv                             \n",
       "4                                                Yes                             \n",
       "\n",
       "  first_name last_name  gender is_this_your_first_dsi_event  \\\n",
       "0     Emmett   Kendall    Male                           No   \n",
       "1       Levi    Iszler    Male                           No   \n",
       "2      Aseem   Thakkar    Male                          Yes   \n",
       "3     Meghan   Savoldy  Female                           No   \n",
       "4    Raymond        Yu    Male                          Yes   \n",
       "\n",
       "  what_year_are_you_in how_much_prior_coding_experience_do_you_have  \\\n",
       "0            Sophomore                             Less than 1 year   \n",
       "1               Junior                                    1-2 years   \n",
       "2     Graduate Student                                    1-2 years   \n",
       "3               Senior                             Less than 1 year   \n",
       "4             Freshman                                    1-2 years   \n",
       "\n",
       "  what_subject_best_describes_your_current_major_or_profession  \\\n",
       "0  Formal Sciences (mathematics, logic, statistic...             \n",
       "1  Formal Sciences (mathematics, logic, statistic...             \n",
       "2  Technology (computer engineering, computer sci...             \n",
       "3  Social Studies (psychology, journalism, econom...             \n",
       "4  Technology (computer engineering, computer sci...             \n",
       "\n",
       "        ...       raw_studies academic_standing study past_attendance  \\\n",
       "0       ...               NaN               NaN   NaN             NaN   \n",
       "1       ...               NaN               NaN   NaN             NaN   \n",
       "2       ...               NaN               NaN   NaN             NaN   \n",
       "3       ...               NaN               NaN   NaN             NaN   \n",
       "4       ...               NaN               NaN   NaN             NaN   \n",
       "\n",
       "  first_attendance race ethnicity feedback listserv code_background  \n",
       "0              NaN  NaN       NaN      NaN      NaN             NaN  \n",
       "1              NaN  NaN       NaN      NaN      NaN             NaN  \n",
       "2              NaN  NaN       NaN      NaN      NaN             NaN  \n",
       "3              NaN  NaN       NaN      NaN      NaN             NaN  \n",
       "4              NaN  NaN       NaN      NaN      NaN             NaN  \n",
       "\n",
       "[5 rows x 23 columns]"
      ]
     },
     "execution_count": 3,
     "metadata": {},
     "output_type": "execute_result"
    }
   ],
   "source": [
    "All_workshop_data.head()"
   ]
  },
  {
   "cell_type": "code",
   "execution_count": null,
   "metadata": {},
   "outputs": [],
   "source": [
    "Fall_workshops = All_workshop_data[All_workshop_data['workshop_type'].str.contains(\"Fall 2018\")]"
   ]
  },
  {
   "cell_type": "markdown",
   "metadata": {},
   "source": [
    "### Number of Workshops"
   ]
  },
  {
   "cell_type": "code",
   "execution_count": 26,
   "metadata": {},
   "outputs": [
    {
     "name": "stdout",
     "output_type": "stream",
     "text": [
      "DSI has hosted 13 workshops in the Fall so far\n"
     ]
    }
   ],
   "source": [
    "print(\"DSI has hosted\", Fall_workshops.workshop_type.nunique(), \"workshops in the Fall so far\")"
   ]
  },
  {
   "cell_type": "markdown",
   "metadata": {},
   "source": [
    "### Average Attendance "
   ]
  },
  {
   "cell_type": "code",
   "execution_count": 21,
   "metadata": {},
   "outputs": [
    {
     "name": "stdout",
     "output_type": "stream",
     "text": [
      "The average attendance for Fall 2018 Workshops is 30.384615384615383\n"
     ]
    }
   ],
   "source": [
    "print(\"The average attendance for Fall 2018 Workshops is\", len(Fall_workshops)*1.0 / Fall_workshops.workshop_type.nunique())"
   ]
  },
  {
   "cell_type": "markdown",
   "metadata": {},
   "source": [
    "### Number of Unique Attendants"
   ]
  },
  {
   "cell_type": "code",
   "execution_count": 22,
   "metadata": {},
   "outputs": [
    {
     "name": "stdout",
     "output_type": "stream",
     "text": [
      "The number of unique attendants for Fall 2018 is 224\n"
     ]
    }
   ],
   "source": [
    "print(\"The number of unique attendants for Fall 2018 is\", Fall_workshops.email.nunique())"
   ]
  },
  {
   "cell_type": "code",
   "execution_count": 23,
   "metadata": {},
   "outputs": [
    {
     "name": "stdout",
     "output_type": "stream",
     "text": [
      "The total number of attendences is 395\n"
     ]
    }
   ],
   "source": [
    "print(\"The total number of attendences is\",len(Fall_workshops))"
   ]
  },
  {
   "cell_type": "markdown",
   "metadata": {},
   "source": [
    "### Advertising Efficiency"
   ]
  },
  {
   "cell_type": "code",
   "execution_count": 5,
   "metadata": {},
   "outputs": [
    {
     "data": {
      "text/plain": [
       "<matplotlib.axes._subplots.AxesSubplot at 0x1085a43c8>"
      ]
     },
     "execution_count": 5,
     "metadata": {},
     "output_type": "execute_result"
    },
    {
     "data": {
      "image/png": "[encoded data removed]",
      "text/plain": [
       "<Figure size 432x288 with 1 Axes>"
      ]
     },
     "metadata": {},
     "output_type": "display_data"
    }
   ],
   "source": [
    "sns.countplot(data=Fall_workshops, y = 'how_did_you_hear_about_us', order = Fall_workshops['how_did_you_hear_about_us'].value_counts().iloc[:10].index)"
   ]
  },
  {
   "cell_type": "markdown",
   "metadata": {},
   "source": [
    "Facebook is still the major driver, Announcements have made a huge jump compared to previous years. Nicely done!"
   ]
  },
  {
   "cell_type": "markdown",
   "metadata": {},
   "source": [
    "### Repeat Attendees"
   ]
  },
  {
   "cell_type": "code",
   "execution_count": 6,
   "metadata": {},
   "outputs": [
    {
     "name": "stderr",
     "output_type": "stream",
     "text": [
      "/usr/local/lib/python3.7/site-packages/scipy/stats/stats.py:1713: FutureWarning: Using a non-tuple sequence for multidimensional indexing is deprecated; use `arr[tuple(seq)]` instead of `arr[seq]`. In the future this will be interpreted as an array index, `arr[np.array(seq)]`, which will result either in an error or a different result.\n",
      "  return np.add.reduce(sorted[indexer] * weights, axis=axis) / sumval\n"
     ]
    },
    {
     "data": {
      "text/plain": [
       "Text(0.5,0.98,'Histogram of Number of Workshop Attendences by Email')"
      ]
     },
     "execution_count": 6,
     "metadata": {},
     "output_type": "execute_result"
    },
    {
     "data": {
      "image/png": "[encoded data removed]",
      "text/plain": [
       "<Figure size 432x288 with 1 Axes>"
      ]
     },
     "metadata": {},
     "output_type": "display_data"
    }
   ],
   "source": [
    "a = sns.distplot(Fall_workshops['email'].value_counts(), kde= False)\n",
    "fig = a.figure\n",
    "fig.suptitle(\"Histogram of Number of Workshop Attendences by Email\", size=10)"
   ]
  },
  {
   "cell_type": "code",
   "execution_count": 7,
   "metadata": {},
   "outputs": [
    {
     "data": {
      "text/html": [
       "<div>\n",
       "<style scoped>\n",
       "    .dataframe tbody tr th:only-of-type {\n",
       "        vertical-align: middle;\n",
       "    }\n",
       "\n",
       "    .dataframe tbody tr th {\n",
       "        vertical-align: top;\n",
       "    }\n",
       "\n",
       "    .dataframe thead th {\n",
       "        text-align: right;\n",
       "    }\n",
       "</style>\n",
       "<table border=\"1\" class=\"dataframe\">\n",
       "  <thead>\n",
       "    <tr style=\"text-align: right;\">\n",
       "      <th></th>\n",
       "      <th>timestamp</th>\n",
       "      <th>email</th>\n",
       "      <th>do_you_want_to_receive_updates_about_meetings_workshops_and_other_dsi_events</th>\n",
       "      <th>first_name</th>\n",
       "      <th>last_name</th>\n",
       "      <th>gender</th>\n",
       "      <th>is_this_your_first_dsi_event</th>\n",
       "      <th>what_year_are_you_in</th>\n",
       "      <th>how_much_prior_coding_experience_do_you_have</th>\n",
       "      <th>what_subject_best_describes_your_current_major_or_profession</th>\n",
       "      <th>...</th>\n",
       "      <th>raw_studies</th>\n",
       "      <th>academic_standing</th>\n",
       "      <th>study</th>\n",
       "      <th>past_attendance</th>\n",
       "      <th>first_attendance</th>\n",
       "      <th>race</th>\n",
       "      <th>ethnicity</th>\n",
       "      <th>feedback</th>\n",
       "      <th>listserv</th>\n",
       "      <th>code_background</th>\n",
       "    </tr>\n",
       "  </thead>\n",
       "  <tbody>\n",
       "    <tr>\n",
       "      <th>15</th>\n",
       "      <td>2018-10-15 18:26:08</td>\n",
       "      <td>chingyunhuang@ufl.edu</td>\n",
       "      <td>Yes</td>\n",
       "      <td>Chingyung</td>\n",
       "      <td>huang</td>\n",
       "      <td>Female</td>\n",
       "      <td>No</td>\n",
       "      <td>Graduate Student</td>\n",
       "      <td>Less than 1 year</td>\n",
       "      <td>Business Administration (finance, accounting, ...</td>\n",
       "      <td>...</td>\n",
       "      <td>NaN</td>\n",
       "      <td>NaN</td>\n",
       "      <td>NaN</td>\n",
       "      <td>NaN</td>\n",
       "      <td>NaN</td>\n",
       "      <td>NaN</td>\n",
       "      <td>NaN</td>\n",
       "      <td>NaN</td>\n",
       "      <td>NaN</td>\n",
       "      <td>NaN</td>\n",
       "    </tr>\n",
       "  </tbody>\n",
       "</table>\n",
       "<p>1 rows × 23 columns</p>\n",
       "</div>"
      ],
      "text/plain": [
       "             timestamp                  email  \\\n",
       "15 2018-10-15 18:26:08  chingyunhuang@ufl.edu   \n",
       "\n",
       "   do_you_want_to_receive_updates_about_meetings_workshops_and_other_dsi_events  \\\n",
       "15                                                Yes                             \n",
       "\n",
       "   first_name last_name  gender is_this_your_first_dsi_event  \\\n",
       "15  Chingyung     huang  Female                           No   \n",
       "\n",
       "   what_year_are_you_in how_much_prior_coding_experience_do_you_have  \\\n",
       "15     Graduate Student                             Less than 1 year   \n",
       "\n",
       "   what_subject_best_describes_your_current_major_or_profession  \\\n",
       "15  Business Administration (finance, accounting, ...             \n",
       "\n",
       "         ...       raw_studies academic_standing study past_attendance  \\\n",
       "15       ...               NaN               NaN   NaN             NaN   \n",
       "\n",
       "   first_attendance race ethnicity feedback listserv code_background  \n",
       "15              NaN  NaN       NaN      NaN      NaN             NaN  \n",
       "\n",
       "[1 rows x 23 columns]"
      ]
     },
     "execution_count": 7,
     "metadata": {},
     "output_type": "execute_result"
    }
   ],
   "source": [
    "#congrats to our top attending workshop attendee!\n",
    "Fall_workshops[Fall_workshops['email'] == Fall_workshops['email'].value_counts().index[0]].head(1)"
   ]
  },
  {
   "cell_type": "markdown",
   "metadata": {},
   "source": [
    "### Year Breakdown"
   ]
  },
  {
   "cell_type": "code",
   "execution_count": 8,
   "metadata": {},
   "outputs": [
    {
     "data": {
      "text/plain": [
       "<matplotlib.axes._subplots.AxesSubplot at 0x10863be10>"
      ]
     },
     "execution_count": 8,
     "metadata": {},
     "output_type": "execute_result"
    },
    {
     "data": {
      "image/png": "[encoded data removed]",
      "text/plain": [
       "<Figure size 432x288 with 1 Axes>"
      ]
     },
     "metadata": {},
     "output_type": "display_data"
    }
   ],
   "source": [
    "sns.countplot(data=Fall_workshops, x = 'what_year_are_you_in', order = Fall_workshops['what_year_are_you_in'].value_counts().iloc[:10].index)"
   ]
  },
  {
   "cell_type": "markdown",
   "metadata": {},
   "source": [
    "### Proportion of First Time Attendees per Workshop"
   ]
  },
  {
   "cell_type": "markdown",
   "metadata": {},
   "source": [
    "#### Same graph but smaller"
   ]
  },
  {
   "cell_type": "code",
   "execution_count": 10,
   "metadata": {},
   "outputs": [
    {
     "data": {
      "text/plain": [
       "<matplotlib.axes._subplots.AxesSubplot at 0x11829ea20>"
      ]
     },
     "execution_count": 10,
     "metadata": {},
     "output_type": "execute_result"
    },
    {
     "data": {
      "image/png": "[encoded data removed]",
      "text/plain": [
       "<Figure size 432x288 with 1 Axes>"
      ]
     },
     "metadata": {},
     "output_type": "display_data"
    }
   ],
   "source": [
    "Fall_workshops.groupby('is_this_your_first_dsi_event').workshop_type.value_counts(normalize=True).unstack(0).plot.barh()"
   ]
  },
  {
   "cell_type": "markdown",
   "metadata": {},
   "source": [
    "### Workshop Attendance by Gender"
   ]
  },
  {
   "cell_type": "code",
   "execution_count": 11,
   "metadata": {},
   "outputs": [
    {
     "data": {
      "text/plain": [
       "<matplotlib.axes._subplots.AxesSubplot at 0x118b0dbe0>"
      ]
     },
     "execution_count": 11,
     "metadata": {},
     "output_type": "execute_result"
    },
    {
     "data": {
      "image/png": "[encoded data removed]",
      "text/plain": [
       "<Figure size 432x288 with 1 Axes>"
      ]
     },
     "metadata": {},
     "output_type": "display_data"
    }
   ],
   "source": [
    "sns.countplot(data = Fall_workshops, x = 'gender')"
   ]
  },
  {
   "cell_type": "markdown",
   "metadata": {},
   "source": [
    "This ^ is not great and is likely representative of where Data Science is as a field, and also where we get a lot of our attendees from. See that below"
   ]
  },
  {
   "cell_type": "code",
   "execution_count": 13,
   "metadata": {},
   "outputs": [
    {
     "data": {
      "text/plain": [
       "<matplotlib.axes._subplots.AxesSubplot at 0x118cf1ef0>"
      ]
     },
     "execution_count": 13,
     "metadata": {},
     "output_type": "execute_result"
    },
    {
     "data": {
      "image/png": "[encoded data removed]",
      "text/plain": [
       "<Figure size 432x288 with 1 Axes>"
      ]
     },
     "metadata": {},
     "output_type": "display_data"
    }
   ],
   "source": [
    "sns.countplot(data = Fall_workshops, y = 'what_subject_best_describes_your_current_major_or_profession')"
   ]
  },
  {
   "cell_type": "code",
   "execution_count": 14,
   "metadata": {},
   "outputs": [
    {
     "data": {
      "text/plain": [
       "No     238\n",
       "Yes    156\n",
       "Name: is_this_your_first_dsi_event, dtype: int64"
      ]
     },
     "execution_count": 14,
     "metadata": {},
     "output_type": "execute_result"
    }
   ],
   "source": [
    "Fall_workshops"
   ]
  },
  {
   "cell_type": "markdown",
   "metadata": {},
   "source": [
    "Overall, this has been a great semester so far and if we can continue our average workshop and DSI Wednesday attendance, we should be in excellent shape!"
   ]
  }
 ],
 "metadata": {
  "kernelspec": {
   "display_name": "Python 3",
   "language": "python",
   "name": "python3"
  },
  "language_info": {
   "codemirror_mode": {
    "name": "ipython",
    "version": 3
   },
   "file_extension": ".py",
   "mimetype": "text/x-python",
   "name": "python",
   "nbconvert_exporter": "python",
   "pygments_lexer": "ipython3",
   "version": "3.7.0"
  }
 },
 "nbformat": 4,
 "nbformat_minor": 2
}
